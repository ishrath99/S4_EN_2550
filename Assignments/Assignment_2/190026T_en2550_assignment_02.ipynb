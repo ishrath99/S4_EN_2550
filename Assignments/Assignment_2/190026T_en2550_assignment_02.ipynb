{
 "cells": [
  {
   "cell_type": "markdown",
   "metadata": {},
   "source": [
    "Index number : 190026T\n",
    "\n",
    "Name         : AHAMED M.I.I"
   ]
  },
  {
   "cell_type": "code",
   "execution_count": 2,
   "metadata": {},
   "outputs": [],
   "source": [
    "#1)\n",
    "import cv2 as cv\n",
    "import numpy as np\n",
    "import matplotlib.pyplot as plt\n",
    "from scipy.optimize import minimize\n",
    "from scipy import linalg \n",
    "\n",
    "# np . random . seed ( 0 )\n",
    "N = 100\n",
    "half_n = N//2\n",
    "\n",
    "r = 10\n",
    "s = r/16\n",
    "t = np.random.uniform(0, 2*np.pi ,half_n)\n",
    "n = s*np.random.randn(half_n)\n",
    "\n",
    "x ,y = (r + n)*np.cos(t), (r + n)*np.sin(t)\n",
    "\n",
    "X_circ = np.hstack((x.reshape(half_n , 1), y.reshape(half_n, 1)))\n",
    "\n",
    "m, b = 1, 2\n",
    "x = np.linspace(12, 12, half_n)\n",
    "y = m*x + b + s*np.random.randn(half_n)\n",
    "X_line = np.hstack((x.reshape(half_n, 1), y.reshape(half_n, 1)))\n",
    "X = np.vstack((X_circ, X_line))"
   ]
  }
 ],
 "metadata": {
  "interpreter": {
   "hash": "29ac8f5334ebd62e2ebf4906a88b140119f2d073e530907a91d1eb26358361fb"
  },
  "kernelspec": {
   "display_name": "Python 3.8.8 64-bit ('base': conda)",
   "name": "python3"
  },
  "language_info": {
   "codemirror_mode": {
    "name": "ipython",
    "version": 3
   },
   "file_extension": ".py",
   "mimetype": "text/x-python",
   "name": "python",
   "nbconvert_exporter": "python",
   "pygments_lexer": "ipython3",
   "version": "3.8.8"
  },
  "orig_nbformat": 4
 },
 "nbformat": 4,
 "nbformat_minor": 2
}
